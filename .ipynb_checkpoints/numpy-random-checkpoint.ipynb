{
 "cells": [
  {
   "cell_type": "markdown",
   "metadata": {},
   "source": [
    "# Numpy Random"
   ]
  },
  {
   "cell_type": "markdown",
   "metadata": {},
   "source": [
    "## Introduction"
   ]
  },
  {
   "cell_type": "markdown",
   "metadata": {},
   "source": [
    "This notebook contains information (description & examples) about the Numpy library contained in the Python language, specifically the random package. The numpy.random is used pimarily in the area of scientific computing. The reason for using numpy.random is that this library contains a few extra probability distributions commonly used in scientific research, as well as a couple of convenience functions for generating arrays of random data. As opposed to the random.random library, which is a little more lightweight, which is used if you're not doing scientific research or other kinds of work in statistics.\n",
    "\n",
    "The numpy.random library is primarily broken up into 4 sections:\n",
    "1. Simple Random Data\n",
    "2. Permutations\n",
    "3. Distributions\n",
    "4. Random Generator\n",
    "\n",
    "I will mainly be focusing on these 4 sections throughout this notebook. For a more in depth look at these, please see the __[numpy.random documentation.](https://docs.scipy.org/doc/numpy-1.15.1/reference/routines.random.html)__"
   ]
  },
  {
   "cell_type": "markdown",
   "metadata": {},
   "source": [
    "To use the numpy.random package, the library must be imported like so:"
   ]
  },
  {
   "cell_type": "code",
   "execution_count": 1,
   "metadata": {},
   "outputs": [],
   "source": [
    "import numpy as np"
   ]
  },
  {
   "cell_type": "markdown",
   "metadata": {},
   "source": [
    "## Simple Random Data"
   ]
  },
  {
   "cell_type": "markdown",
   "metadata": {},
   "source": [
    "This section of numpy.random contains a number of different functions, these include:\n",
    " - rand\n",
    " - randn\n",
    " - randint\n",
    " - random_integers\n",
    " - random_sample\n",
    " - random\n",
    " - ranf\n",
    " - sample\n",
    " - choice\n",
    " - bytes\n",
    "\n",
    "In this notebook, I will only look at 4 of these, with given examples."
   ]
  },
  {
   "cell_type": "markdown",
   "metadata": {},
   "source": [
    "### Example 1 - numpy.random.rand"
   ]
  },
  {
   "cell_type": "markdown",
   "metadata": {},
   "source": [
    "This gives random values in a given shape. It creates an array of the given shape, and populates it with random samples from a uniform distribution. It takes parameters:\n",
    "<br>numpy.random.rand(d0, d1, ..., dn)\n"
   ]
  },
  {
   "cell_type": "code",
   "execution_count": 4,
   "metadata": {},
   "outputs": [
    {
     "data": {
      "text/plain": [
       "array([[[0.87106848, 0.98173483, 0.69459884, 0.06339202],\n",
       "        [0.47261209, 0.71281387, 0.99492894, 0.92571168],\n",
       "        [0.33022544, 0.67738025, 0.75431229, 0.16146294],\n",
       "        [0.85062813, 0.60625071, 0.14442248, 0.56979497],\n",
       "        [0.85732006, 0.77837818, 0.72107541, 0.08441815],\n",
       "        [0.25369543, 0.35743735, 0.91327941, 0.64175091],\n",
       "        [0.24599759, 0.8665848 , 0.07280396, 0.66230011],\n",
       "        [0.14898793, 0.09847957, 0.9924341 , 0.12621152],\n",
       "        [0.34310545, 0.19856094, 0.5092634 , 0.45342836],\n",
       "        [0.00970859, 0.57061089, 0.50924785, 0.2422834 ]],\n",
       "\n",
       "       [[0.92131463, 0.57810239, 0.89382471, 0.88351749],\n",
       "        [0.00845246, 0.51555143, 0.15088753, 0.69118177],\n",
       "        [0.65080086, 0.59744018, 0.70320919, 0.83336142],\n",
       "        [0.24694159, 0.75096089, 0.29333001, 0.18187025],\n",
       "        [0.6657522 , 0.78163185, 0.41012203, 0.22817953],\n",
       "        [0.69349402, 0.9432602 , 0.19656505, 0.66079008],\n",
       "        [0.67799754, 0.35862742, 0.52226685, 0.41263347],\n",
       "        [0.93867102, 0.33951776, 0.36959519, 0.71743388],\n",
       "        [0.46297096, 0.53199913, 0.30426526, 0.20954335],\n",
       "        [0.75883927, 0.83448404, 0.64596913, 0.09889237]]])"
      ]
     },
     "execution_count": 4,
     "metadata": {},
     "output_type": "execute_result"
    }
   ],
   "source": [
    "np.random.rand(2, 10, 4)"
   ]
  },
  {
   "cell_type": "markdown",
   "metadata": {},
   "source": [
    "In my example, 2 illustrates the size of the array set, 10 declares how many rows in each set, with 4 declaring how many columns. Each number generated is between 0 and 1."
   ]
  },
  {
   "cell_type": "markdown",
   "metadata": {},
   "source": [
    "These values are very useful in scientific computing as they demonstrate skewed measurements when put into a plot."
   ]
  },
  {
   "cell_type": "code",
   "execution_count": 9,
   "metadata": {},
   "outputs": [
    {
     "ename": "NameError",
     "evalue": "name 'z' is not defined",
     "output_type": "error",
     "traceback": [
      "\u001b[1;31m---------------------------------------------------------------------------\u001b[0m",
      "\u001b[1;31mNameError\u001b[0m                                 Traceback (most recent call last)",
      "\u001b[1;32m<ipython-input-9-629a3884b86a>\u001b[0m in \u001b[0;36m<module>\u001b[1;34m()\u001b[0m\n\u001b[0;32m      2\u001b[0m \u001b[0mx\u001b[0m \u001b[1;33m=\u001b[0m \u001b[0mnp\u001b[0m\u001b[1;33m.\u001b[0m\u001b[0mrandom\u001b[0m\u001b[1;33m.\u001b[0m\u001b[0mrand\u001b[0m\u001b[1;33m(\u001b[0m\u001b[1;36m2\u001b[0m\u001b[1;33m,\u001b[0m \u001b[1;36m10\u001b[0m\u001b[1;33m,\u001b[0m \u001b[1;36m4\u001b[0m\u001b[1;33m)\u001b[0m\u001b[1;33m\u001b[0m\u001b[0m\n\u001b[0;32m      3\u001b[0m \u001b[0my\u001b[0m \u001b[1;33m=\u001b[0m \u001b[0mnp\u001b[0m\u001b[1;33m.\u001b[0m\u001b[0msin\u001b[0m\u001b[1;33m(\u001b[0m\u001b[0mx\u001b[0m\u001b[1;33m)\u001b[0m\u001b[1;33m\u001b[0m\u001b[0m\n\u001b[1;32m----> 4\u001b[1;33m \u001b[0mplt\u001b[0m\u001b[1;33m.\u001b[0m\u001b[0mplot\u001b[0m\u001b[1;33m(\u001b[0m\u001b[0mx\u001b[0m\u001b[1;33m,\u001b[0m \u001b[0my\u001b[0m\u001b[1;33m,\u001b[0m \u001b[0mz\u001b[0m\u001b[1;33m)\u001b[0m\u001b[1;33m\u001b[0m\u001b[0m\n\u001b[0m\u001b[0;32m      5\u001b[0m \u001b[0mplt\u001b[0m\u001b[1;33m.\u001b[0m\u001b[0mshow\u001b[0m\u001b[1;33m(\u001b[0m\u001b[1;33m)\u001b[0m\u001b[1;33m\u001b[0m\u001b[0m\n",
      "\u001b[1;31mNameError\u001b[0m: name 'z' is not defined"
     ]
    }
   ],
   "source": [
    "import matplotlib.pyplot as plt\n",
    "x = np.random.rand(4, 5)\n",
    "y = np.sin(x)\n",
    "plt.plot(x, y)\n",
    "plt.show()"
   ]
  },
  {
   "cell_type": "code",
   "execution_count": null,
   "metadata": {},
   "outputs": [],
   "source": []
  }
 ],
 "metadata": {
  "kernelspec": {
   "display_name": "Python 3",
   "language": "python",
   "name": "python3"
  },
  "language_info": {
   "codemirror_mode": {
    "name": "ipython",
    "version": 3
   },
   "file_extension": ".py",
   "mimetype": "text/x-python",
   "name": "python",
   "nbconvert_exporter": "python",
   "pygments_lexer": "ipython3",
   "version": "3.6.5"
  }
 },
 "nbformat": 4,
 "nbformat_minor": 2
}
