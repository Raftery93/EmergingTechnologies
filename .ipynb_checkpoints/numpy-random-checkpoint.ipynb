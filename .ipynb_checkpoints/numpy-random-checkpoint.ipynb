{
 "cells": [
  {
   "cell_type": "markdown",
   "metadata": {},
   "source": [
    "# Numpy Random"
   ]
  },
  {
   "cell_type": "markdown",
   "metadata": {},
   "source": [
    "## Introduction"
   ]
  },
  {
   "cell_type": "markdown",
   "metadata": {},
   "source": [
    "This notebook contains information (description & examples) about the Numpy library contained in the Python language, specifically the random package. The numpy.random is used pimarily in the area of scientific computing. The reason for using numpy.random is that this library contains a few extra probability distributions commonly used in scientific research, as well as a couple of convenience functions for generating arrays of random data. As opposed to the random.random library, which is a little more lightweight, which is used if you're not doing scientific research or other kinds of work in statistics.\n",
    "\n",
    "The numpy.random library is primarily broken up into 4 sections:\n",
    "1. Simple Random Data\n",
    "2. Permutations\n",
    "3. Distributions\n",
    "4. Random Generator\n",
    "\n",
    "I will mainly be focusing on these 4 sections throughout this notebook. For a more in depth look at these, please see the __[numpy.random documentation.](https://docs.scipy.org/doc/numpy-1.15.1/reference/routines.random.html)__"
   ]
  },
  {
   "cell_type": "markdown",
   "metadata": {},
   "source": [
    "To use the numpy.random package, the library must be imported like so:"
   ]
  },
  {
   "cell_type": "code",
   "execution_count": 2,
   "metadata": {},
   "outputs": [],
   "source": [
    "import numpy as np"
   ]
  },
  {
   "cell_type": "markdown",
   "metadata": {},
   "source": [
    "## Simple Random Data"
   ]
  },
  {
   "cell_type": "markdown",
   "metadata": {},
   "source": [
    "This section of numpy.random contains a number of different functions, these include:\n",
    " - rand\n",
    " - randn\n",
    " - randint\n",
    " - random_integers\n",
    " - random_sample\n",
    " - random\n",
    " - ranf\n",
    " - sample\n",
    " - choice\n",
    " - bytes\n",
    "\n",
    "In this notebook, I will only look at 4 of these, with given examples."
   ]
  },
  {
   "cell_type": "markdown",
   "metadata": {},
   "source": [
    "### Example 1 - numpy.random.rand"
   ]
  },
  {
   "cell_type": "markdown",
   "metadata": {},
   "source": [
    "This gives random values in a given shape. It creates an array of the given shape, and populates it with random samples from a uniform distribution. It takes parameters:\n",
    "<br>numpy.random.rand(d0, d1, ..., dn)\n"
   ]
  },
  {
   "cell_type": "code",
   "execution_count": 4,
   "metadata": {},
   "outputs": [
    {
     "data": {
      "text/plain": [
       "array([[[0.87106848, 0.98173483, 0.69459884, 0.06339202],\n",
       "        [0.47261209, 0.71281387, 0.99492894, 0.92571168],\n",
       "        [0.33022544, 0.67738025, 0.75431229, 0.16146294],\n",
       "        [0.85062813, 0.60625071, 0.14442248, 0.56979497],\n",
       "        [0.85732006, 0.77837818, 0.72107541, 0.08441815],\n",
       "        [0.25369543, 0.35743735, 0.91327941, 0.64175091],\n",
       "        [0.24599759, 0.8665848 , 0.07280396, 0.66230011],\n",
       "        [0.14898793, 0.09847957, 0.9924341 , 0.12621152],\n",
       "        [0.34310545, 0.19856094, 0.5092634 , 0.45342836],\n",
       "        [0.00970859, 0.57061089, 0.50924785, 0.2422834 ]],\n",
       "\n",
       "       [[0.92131463, 0.57810239, 0.89382471, 0.88351749],\n",
       "        [0.00845246, 0.51555143, 0.15088753, 0.69118177],\n",
       "        [0.65080086, 0.59744018, 0.70320919, 0.83336142],\n",
       "        [0.24694159, 0.75096089, 0.29333001, 0.18187025],\n",
       "        [0.6657522 , 0.78163185, 0.41012203, 0.22817953],\n",
       "        [0.69349402, 0.9432602 , 0.19656505, 0.66079008],\n",
       "        [0.67799754, 0.35862742, 0.52226685, 0.41263347],\n",
       "        [0.93867102, 0.33951776, 0.36959519, 0.71743388],\n",
       "        [0.46297096, 0.53199913, 0.30426526, 0.20954335],\n",
       "        [0.75883927, 0.83448404, 0.64596913, 0.09889237]]])"
      ]
     },
     "execution_count": 4,
     "metadata": {},
     "output_type": "execute_result"
    }
   ],
   "source": [
    "np.random.rand(2, 10, 4)"
   ]
  },
  {
   "cell_type": "markdown",
   "metadata": {},
   "source": [
    "In my example, 2 illustrates the size of the array set, 10 declares how many rows in each set, with 4 declaring how many columns. Each number generated is between 0 and 1."
   ]
  },
  {
   "cell_type": "markdown",
   "metadata": {},
   "source": [
    "These values are very useful in scientific computing as they demonstrate skewed measurements when put into a plot."
   ]
  },
  {
   "cell_type": "markdown",
   "metadata": {},
   "source": [
    "To create a plot, we must first:"
   ]
  },
  {
   "cell_type": "code",
   "execution_count": 5,
   "metadata": {},
   "outputs": [],
   "source": [
    "import matplotlib.pyplot as plt"
   ]
  },
  {
   "cell_type": "code",
   "execution_count": 16,
   "metadata": {},
   "outputs": [
    {
     "data": {
      "image/png": "[encoded data removed]",
      "text/plain": [
       "<Figure size 432x288 with 1 Axes>"
      ]
     },
     "metadata": {},
     "output_type": "display_data"
    }
   ],
   "source": [
    "x = np.random.rand(5, 10)\n",
    "y = np.sin(x)\n",
    "plt.plot(x, y, \"b.\")\n",
    "plt.show()"
   ]
  },
  {
   "cell_type": "markdown",
   "metadata": {},
   "source": [
    "### Example 2 - numpy.random.randint"
   ]
  },
  {
   "cell_type": "markdown",
   "metadata": {},
   "source": [
    "This function is used to generate random integers. It takes a number of parameters, but can also be used with less parameters. In my example, I will demonstrate its use with the maximum ammount of parameters.<br><br>The first parameter declares the lowest integer value to be generated, with the second parameter being the highest. You can create an array of these random integers by declaring an array size illustrated by the third parameter. The final parameter declares the data type, in my case it is an Integer."
   ]
  },
  {
   "cell_type": "code",
   "execution_count": 33,
   "metadata": {},
   "outputs": [
    {
     "data": {
      "text/plain": [
       "array([4, 5, 7, 6, 7])"
      ]
     },
     "execution_count": 33,
     "metadata": {},
     "output_type": "execute_result"
    }
   ],
   "source": [
    "np.random.randint(4,high=9,size=5, dtype='int_')"
   ]
  },
  {
   "cell_type": "markdown",
   "metadata": {},
   "source": [
    "### Example 3 - numpy.random.bytes"
   ]
  },
  {
   "cell_type": "markdown",
   "metadata": {},
   "source": [
    "This function returns random bytes in the form of a string. The size of the string is determined by the integer within the given parameter. See the example below."
   ]
  },
  {
   "cell_type": "code",
   "execution_count": 34,
   "metadata": {},
   "outputs": [
    {
     "data": {
      "text/plain": [
       "b'\\xfd\\x15\\xb8\\xc5k#\\x7f\\xe4C\\x91\\x10# \\xd4\\x8fh]\\xfbm\\xcb\\x9b\\x85\"\\xf0\\x92\\xba\\xd5*\\xd9GtJC\\xa9\\xf7\\xbd\\xbb\\x814X\\xd4\\x86\\xc4\\x1a&\\xe9\\xac\\xd6\\xe8\\xab'"
      ]
     },
     "execution_count": 34,
     "metadata": {},
     "output_type": "execute_result"
    }
   ],
   "source": [
    "np.random.bytes(50)"
   ]
  },
  {
   "cell_type": "markdown",
   "metadata": {},
   "source": [
    "## Permutations"
   ]
  },
  {
   "cell_type": "markdown",
   "metadata": {},
   "source": [
    "This section of numpy.random only contains two functions, these are:\n",
    " - random.shuffle\n",
    " - random.permutation\n",
    "In the below sections, I will look at these functions giving a brief explanation, along with examples.\n"
   ]
  },
  {
   "cell_type": "markdown",
   "metadata": {},
   "source": [
    "### Example 1 - numpy.random.shuffle"
   ]
  },
  {
   "cell_type": "markdown",
   "metadata": {},
   "source": [
    "The function modifies a sequence by shuffling the contents into different indexes."
   ]
  },
  {
   "cell_type": "code",
   "execution_count": 4,
   "metadata": {},
   "outputs": [
    {
     "data": {
      "text/plain": [
       "['Circle', 'Rectangle', 'Oval', 'Triangle', 'Hexagon', 'Octagon', 'Square']"
      ]
     },
     "execution_count": 4,
     "metadata": {},
     "output_type": "execute_result"
    }
   ],
   "source": [
    "# First we declare and initiate an Array\n",
    "shape_array = [\"Circle\", \"Square\", \"Triangle\", \"Rectangle\", \"Oval\", \"Hexagon\", \"Octagon\"]\n",
    "\n",
    "# Then we shuffle our array by calling the 'shuffle' function\n",
    "np.random.shuffle(shape_array)\n",
    "\n",
    "# Output array\n",
    "shape_array"
   ]
  },
  {
   "cell_type": "markdown",
   "metadata": {},
   "source": [
    "As you can see, our array has been randomly shuffled into different indexes.<br>\n",
    "It is important to remember though, that if you are using a multiple dimension array, that this function only shuffles the array along the first axis of the array. For example, the order of the sub-arrays will be changed, but the contents will remain the same.<br>\n",
    "See my example below:"
   ]
  },
  {
   "cell_type": "code",
   "execution_count": 18,
   "metadata": {},
   "outputs": [
    {
     "data": {
      "text/plain": [
       "[['Circle', 'Square', 'Triangle', 'Rectangle'],\n",
       " ['Oval', 'Hexagon', 'Octagon', 'Decagon', 'Elipse'],\n",
       " ['Parabola', 'Pentagon', 'Heptagon', 'Digon', 'Star']]"
      ]
     },
     "execution_count": 18,
     "metadata": {},
     "output_type": "execute_result"
    }
   ],
   "source": [
    "shape_array = ([[ \"Circle\", \"Square\", \"Triangle\", \"Rectangle\"],\n",
    "       [ \"Oval\", \"Hexagon\", \"Octagon\",  \"Decagon\",  \"Elipse\"],\n",
    "       [\"Parabola\", \"Pentagon\", \"Heptagon\", \"Digon\", \"Star\"]])\n",
    "shape_array"
   ]
  },
  {
   "cell_type": "markdown",
   "metadata": {},
   "source": [
    "Now we shuffle the array."
   ]
  },
  {
   "cell_type": "code",
   "execution_count": 20,
   "metadata": {},
   "outputs": [
    {
     "data": {
      "text/plain": [
       "[['Parabola', 'Pentagon', 'Heptagon', 'Digon', 'Star'],\n",
       " ['Circle', 'Square', 'Triangle', 'Rectangle'],\n",
       " ['Oval', 'Hexagon', 'Octagon', 'Decagon', 'Elipse']]"
      ]
     },
     "execution_count": 20,
     "metadata": {},
     "output_type": "execute_result"
    }
   ],
   "source": [
    "np.random.shuffle(shape_array)\n",
    "shape_array"
   ]
  },
  {
   "cell_type": "markdown",
   "metadata": {},
   "source": [
    "As you can see, it only shuffled the sub-arrays, not the arrays themselves."
   ]
  },
  {
   "cell_type": "markdown",
   "metadata": {},
   "source": [
    "### Example 2 - numpy.random.permutation"
   ]
  },
  {
   "cell_type": "markdown",
   "metadata": {},
   "source": [
    "This function works very similiar to the above function. It randomly permutes a sequence, or returns a permuted page.<br>\n",
    "For example, it can create an array and randomize it:"
   ]
  },
  {
   "cell_type": "code",
   "execution_count": 22,
   "metadata": {},
   "outputs": [
    {
     "data": {
      "text/plain": [
       "array([1, 0, 4, 3, 2])"
      ]
     },
     "execution_count": 22,
     "metadata": {},
     "output_type": "execute_result"
    }
   ],
   "source": [
    "np.random.permutation(5)"
   ]
  },
  {
   "cell_type": "markdown",
   "metadata": {},
   "source": [
    "Or, like the numpy.random.shuffle example, it can randomize/shuffle a multi-dimensional array:"
   ]
  },
  {
   "cell_type": "code",
   "execution_count": 23,
   "metadata": {},
   "outputs": [
    {
     "data": {
      "text/plain": [
       "array([[ 0,  1,  2,  3,  4],\n",
       "       [ 5,  6,  7,  8,  9],\n",
       "       [10, 11, 12, 13, 14]])"
      ]
     },
     "execution_count": 23,
     "metadata": {},
     "output_type": "execute_result"
    }
   ],
   "source": [
    "# Declare and Create a 3 dimensional array of size 5\n",
    "array = np.arange(15).reshape((3, 5))\n",
    "array"
   ]
  },
  {
   "cell_type": "code",
   "execution_count": 27,
   "metadata": {},
   "outputs": [
    {
     "data": {
      "text/plain": [
       "array([[ 5,  6,  7,  8,  9],\n",
       "       [10, 11, 12, 13, 14],\n",
       "       [ 0,  1,  2,  3,  4]])"
      ]
     },
     "execution_count": 27,
     "metadata": {},
     "output_type": "execute_result"
    }
   ],
   "source": [
    "# Call our permutation function\n",
    "np.random.permutation(array)"
   ]
  },
  {
   "cell_type": "markdown",
   "metadata": {},
   "source": [
    "## Distributions"
   ]
  },
  {
   "cell_type": "markdown",
   "metadata": {},
   "source": [
    "This section contains 35 different functions. I will only discuss 4 of these, with given examples of each. I have chosen these 4 functions as I find these the most interesting. The functions I have chosen are:<br>\n",
    " - numpy.random.logistic\n",
    " - numpy.random.lognormal\n",
    " - numpy.random.normal\n",
    " - numpy.random.uniform"
   ]
  },
  {
   "cell_type": "markdown",
   "metadata": {},
   "source": [
    "### Example 1 - numpy.random.logistic"
   ]
  },
  {
   "cell_type": "markdown",
   "metadata": {},
   "source": [
    "This function is used to draw graphs from a logistic distribution with specified parameters. See the code below for creating the graph."
   ]
  },
  {
   "cell_type": "code",
   "execution_count": 11,
   "metadata": {},
   "outputs": [
    {
     "data": {
      "image/png": "[encoded data removed]",
      "text/plain": [
       "<Figure size 432x288 with 1 Axes>"
      ]
     },
     "metadata": {},
     "output_type": "display_data"
    }
   ],
   "source": [
    "s = np.random.logistic(50, 1, 1000)\n",
    "count, bins, ignored = plt.hist(s, bins=50)"
   ]
  },
  {
   "cell_type": "markdown",
   "metadata": {},
   "source": [
    "The first parameter is the location (or mean). The second parameter is the scale. The final parameter is the size. The second line of code is used to execute & create the graph."
   ]
  },
  {
   "cell_type": "markdown",
   "metadata": {},
   "source": [
    "### Example 2 - numpy.random.lognormal"
   ]
  },
  {
   "cell_type": "markdown",
   "metadata": {},
   "source": [
    "This function is used to draw graphs from a log-normal distribution with specified mean, standard deviation, and array shape."
   ]
  },
  {
   "cell_type": "code",
   "execution_count": 14,
   "metadata": {},
   "outputs": [
    {
     "data": {
      "image/png": "[encoded data removed]",
      "text/plain": [
       "<Figure size 432x288 with 1 Axes>"
      ]
     },
     "metadata": {},
     "output_type": "display_data"
    }
   ],
   "source": [
    "# First, we draw samples from the distribution\n",
    "mu, sigma = 3., 1.\n",
    "s = np.random.lognormal(mu, sigma, 1000)\n",
    "\n",
    "# Next, we display the histogram of the samples, along with the probability density function\n",
    "count, bins, ignored = plt.hist(s, 100, density=True, align='mid')\n",
    "\n",
    "x = np.linspace(min(bins), max(bins), 10000)\n",
    "pdf = (np.exp(-(np.log(x) - mu)**2 / (2 * sigma**2)) / (x * sigma * np.sqrt(2 * np.pi)))\n",
    "\n",
    "plt.plot(x, pdf, linewidth=2, color='r')\n",
    "plt.axis('tight')\n",
    "plt.show()"
   ]
  },
  {
   "cell_type": "markdown",
   "metadata": {},
   "source": [
    "Note when using the lognormal function, it takes 3 parameters. These parameters are the mean, sigma and size respectively.<br><br>\n",
    "Now we need to demonstrate that taking the products of random samples from a uniform distribution can be fit well by a log-normal probability density function. This is done in the following code example:"
   ]
  },
  {
   "cell_type": "code",
   "execution_count": 15,
   "metadata": {},
   "outputs": [
    {
     "data": {
      "image/png": "[encoded data removed]",
      "text/plain": [
       "<Figure size 432x288 with 1 Axes>"
      ]
     },
     "metadata": {},
     "output_type": "display_data"
    }
   ],
   "source": [
    "#Generate a thousand samples: each is the product of 100 random\n",
    "#values, drawn from a normal distribution.\n",
    "b = []\n",
    "for i in range(1000):\n",
    "    a = 10. + np.random.random(100)\n",
    "    b.append(np.product(a))\n",
    "\n",
    "b = np.array(b) / np.min(b) # scale values to be positive\n",
    "count, bins, ignored = plt.hist(b, 100, density=True, align='mid')\n",
    "sigma = np.std(np.log(b))\n",
    "mu = np.mean(np.log(b))\n",
    "\n",
    "x = np.linspace(min(bins), max(bins), 10000)\n",
    "pdf = (np.exp(-(np.log(x) - mu)**2 / (2 * sigma**2)) / (x * sigma * np.sqrt(2 * np.pi)))\n",
    "\n",
    "plt.plot(x, pdf, color='r', linewidth=2)\n",
    "plt.show()"
   ]
  },
  {
   "cell_type": "markdown",
   "metadata": {},
   "source": [
    "### Example 3 - numpy.random.normal"
   ]
  },
  {
   "cell_type": "markdown",
   "metadata": {},
   "source": [
    "This function is used to draw graphs from random samples from a normal (Gaussian) distribution. It is a probability density function.<br>\n",
    "The function itself takes 3 parameters:\n",
    " - The location (Mean or centre of the distribution)\n",
    " - The scale (Spread/width of distribution)\n",
    " - The size of the distribution\n",
    "\n",
    "See the example below of the use of this function:"
   ]
  },
  {
   "cell_type": "code",
   "execution_count": 17,
   "metadata": {},
   "outputs": [
    {
     "data": {
      "image/png": "[encoded data removed]",
      "text/plain": [
       "<Figure size 432x288 with 1 Axes>"
      ]
     },
     "metadata": {},
     "output_type": "display_data"
    }
   ],
   "source": [
    "# Draw samples from the distribution\n",
    "mu, sigma = 0, 0.1\n",
    "s = np.random.normal(mu, sigma, 1000)\n",
    "\n",
    "# Verify the mean\n",
    "abs(mu - np.mean(s)) < 0.01\n",
    "\n",
    "# Verify the variance\n",
    "abs(sigma - np.std(s, ddof=1)) < 0.01\n",
    "\n",
    "#Display the histogram of the samples, along with the probability density function\n",
    "count, bins, ignored = plt.hist(s, 30, density=True)\n",
    "plt.plot(bins, 1/(sigma * np.sqrt(2 * np.pi)) * np.exp( - (bins - mu)**2 / (2 * sigma**2) ), linewidth=2, color='r')\n",
    "plt.show()"
   ]
  },
  {
   "cell_type": "markdown",
   "metadata": {},
   "source": [
    "As you can see from the graph, the function has its peak at the mean, and its \"spread\" increases with the standard deviation. This implies that numpy.random.normal is more likely to return samples lying close to the mean, rather than those far away."
   ]
  },
  {
   "cell_type": "markdown",
   "metadata": {},
   "source": [
    "### Example 4 - numpy.random.uniform"
   ]
  },
  {
   "cell_type": "markdown",
   "metadata": {},
   "source": []
  },
  {
   "cell_type": "code",
   "execution_count": null,
   "metadata": {},
   "outputs": [],
   "source": []
  },
  {
   "cell_type": "markdown",
   "metadata": {},
   "source": [
    "## Random Generator"
   ]
  },
  {
   "cell_type": "markdown",
   "metadata": {},
   "source": []
  },
  {
   "cell_type": "markdown",
   "metadata": {},
   "source": [
    "### Example 1 - numpy.random.RandomState"
   ]
  },
  {
   "cell_type": "markdown",
   "metadata": {},
   "source": []
  },
  {
   "cell_type": "code",
   "execution_count": null,
   "metadata": {},
   "outputs": [],
   "source": []
  },
  {
   "cell_type": "markdown",
   "metadata": {},
   "source": [
    "### Example 2 - numpy.random.seed"
   ]
  },
  {
   "cell_type": "markdown",
   "metadata": {},
   "source": []
  },
  {
   "cell_type": "code",
   "execution_count": null,
   "metadata": {},
   "outputs": [],
   "source": []
  },
  {
   "cell_type": "markdown",
   "metadata": {},
   "source": [
    "### Example 3 - numpy.random.set_state / get_state"
   ]
  },
  {
   "cell_type": "markdown",
   "metadata": {},
   "source": []
  },
  {
   "cell_type": "code",
   "execution_count": null,
   "metadata": {},
   "outputs": [],
   "source": []
  }
 ],
 "metadata": {
  "kernelspec": {
   "display_name": "Python 3",
   "language": "python",
   "name": "python3"
  },
  "language_info": {
   "codemirror_mode": {
    "name": "ipython",
    "version": 3
   },
   "file_extension": ".py",
   "mimetype": "text/x-python",
   "name": "python",
   "nbconvert_exporter": "python",
   "pygments_lexer": "ipython3",
   "version": "3.6.5"
  }
 },
 "nbformat": 4,
 "nbformat_minor": 2
}
