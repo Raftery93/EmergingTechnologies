{
 "cells": [
  {
   "cell_type": "markdown",
   "metadata": {},
   "source": [
    "# Digit Recognition"
   ]
  },
  {
   "cell_type": "markdown",
   "metadata": {},
   "source": [
    "![Image of digit recognition](../images/mnistNN.png)"
   ]
  },
  {
   "cell_type": "markdown",
   "metadata": {},
   "source": [
    "The goal of this project is not to achieve the state of the art performance, but rather teach you how to train the MNIST dataset on image data with use of keras. Although the solution isn't optimized for high accuracy, the results are quite good (see table below).\n",
    "\n",
    "If you want to hit the top performance, this two resources will show you current state of the art solutions:<br>\n",
    "__[Who is the best in MNIST ?](http://rodrigob.github.io/are_we_there_yet/build/classification_datasets_results.html#4d4e495354)__<br>\n",
    "__[Kaggle digit recognizer comptetition](https://www.kaggle.com/c/digit-recognizer)__\n",
    "\n",
    "Who is the best in MNIST?\n",
    "Kaggle digit recognizer competition\n",
    "The table below shows some results in comparison with other models:\n",
    "<br>\n",
    "__Method__------------------------------------__Accuracy__<br>\n",
    "Random Forest-------------------------------0.937<br>\n",
    "Simple one-layer neural network---------0.926<br>\n",
    "Simple 2 layer convolutional network----0.981<br>\n",
    "SVM RBF--------------------------------------0.9852<br>\n",
    "_My Performance-----------------------------0.9184_"
   ]
  },
  {
   "cell_type": "markdown",
   "metadata": {},
   "source": [
    "## Solution"
   ]
  },
  {
   "cell_type": "markdown",
   "metadata": {},
   "source": [
    "The solution I have came up with through extensive research, is to use the keras method. I then imported the MNIST dataset into train and test variables. Once this was done, I trained the neural network with the dataset. This led me to creating the model in which the neural network will use. This gave me an accuracy rating and loss rating of how well the neural network performs.\n",
    "\n",
    "The program then takes in an image and begins to match the image to an integer. The digit with the highest percentage accuracy is the digit that most closely matches the image."
   ]
  },
  {
   "cell_type": "markdown",
   "metadata": {},
   "source": [
    "## Running the program"
   ]
  },
  {
   "cell_type": "markdown",
   "metadata": {},
   "source": [
    "### Setup"
   ]
  },
  {
   "cell_type": "markdown",
   "metadata": {},
   "source": [
    "To run this program, there is a few things you must set up. You must have:<br>\n",
    " - Anaconda installed -> __[Install anaconda](https://conda.io/docs/user-guide/install/index.html)__\n",
    " - Install tensorflow -> Open cmd and type \"_conda install tensorflow_\"\n",
    " - Install opencv -> Open cmd and type \"_conda install opencv_\"\n",
    " - Install keras -> Open cmd and type \"_conda install keras_\"\n",
    " - Be using tensorflow environment in command prompt and type \"_conda create -n tensorflow_\", then type \"_conda activate tensorflow_\" (See screenshot below)\n",
    "<br><br>\n",
    "__It is important to run all commands in an Administrator Command Prompt__\n"
   ]
  },
  {
   "cell_type": "markdown",
   "metadata": {},
   "source": [
    "![screenshot of tensorflow environment](../images/tf2.png)<br>\n",
    "*Note that I already have a 'tensorflow' environment created, hence I created 'tensorflow2'*"
   ]
  },
  {
   "cell_type": "markdown",
   "metadata": {},
   "source": [
    "To run this program, you must open command prompt and input the following:<br><br>\n",
    "python digitrec.py<br>\n",
    "**or**<br>\n",
    "python digitrec.py *number*.jpg<br>\n",
    "<br>\n",
    "The first option will run the program and output results from the training set and how well the neural network performed. Option 2 takes a 2nd command line argument. The argument is and image to check against the neural network. I have included 9 images in this folder to check. (zero.jpg - nine.jpg)"
   ]
  },
  {
   "cell_type": "markdown",
   "metadata": {},
   "source": [
    "### Output"
   ]
  },
  {
   "cell_type": "markdown",
   "metadata": {},
   "source": [
    "As stated above, you can run this program by using 2 different commands. See screenshots below:"
   ]
  },
  {
   "cell_type": "markdown",
   "metadata": {},
   "source": [
    "#### Example 1"
   ]
  },
  {
   "cell_type": "markdown",
   "metadata": {},
   "source": [
    "![screenshot of running script](../images/digitscript1.png)"
   ]
  },
  {
   "cell_type": "markdown",
   "metadata": {},
   "source": [
    "This is the script running without checking an image."
   ]
  },
  {
   "cell_type": "markdown",
   "metadata": {},
   "source": [
    "#### Example 2"
   ]
  },
  {
   "attachments": {},
   "cell_type": "markdown",
   "metadata": {},
   "source": [
    "![screenshot of running script](../images/digitscript2.png)"
   ]
  },
  {
   "cell_type": "markdown",
   "metadata": {},
   "source": [
    "As you can see from the input, I have included a 2nd argument before running the script. This is the image file. The contents of the image file can be seen below:<br>\n",
    "![digitTwo](two.jpg)"
   ]
  },
  {
   "cell_type": "markdown",
   "metadata": {},
   "source": [
    "## Accuracy of results"
   ]
  },
  {
   "cell_type": "markdown",
   "metadata": {},
   "source": [
    "As stated earlier, the point of this program was not accuracy, but how to build a neural network. I ran this script against all of my image files. All of these images were drawn by hand using basic microsoft paint. These are the results I got:\n",
    "- zero.jpg: \"I am 51.50% confident that it is 0\" -> Correct Result\n",
    "- one.jpg: \"I am 89.92% confident that it is 1\" -> Correct Result\n",
    "- two.jpg: \"I am 67.78% confident that it is 2\" -> Correct Result\n",
    "- three.jpg: \"I am 92.10% confident that it is 3\" -> Correct Result\n",
    "- four.jpg: \"I am 69.30% confident that it is 4\" -> Correct Result\n",
    "- five.jpg: \"I am 54.37% confident that it is 3\" -> __Wrong Result__\n",
    "- six.jpg: \"I am 66.25% confident that it is 5\" -> __Wrong Result__\n",
    "- seven.jpg: \"I am 60.65% confident that it is 2\" -> __Wrong Result__\n",
    "- eight.jpg: \"I am 43.25% confident that it is 8\" -> Correct Result\n",
    "- nine.jpg: \"I am 65.07% confident that it is 3\" -> __Wrong Result__\n",
    "<br>\n",
    "__Image files:__<br>\n",
    "![digitZero](allnumbers.png)"
   ]
  },
  {
   "cell_type": "markdown",
   "metadata": {},
   "source": [
    "## Conclusion"
   ]
  },
  {
   "cell_type": "markdown",
   "metadata": {},
   "source": [
    "I feel it was relatively accurate. It guessed 6/10 correct. I think it fell down due to the fact that I drew the images fairly crudely, and that the thickness of the digits is different from the training digits. If I created multiple hand written digits (the same as above), and created a training set from those digits, I would get better results."
   ]
  },
  {
   "cell_type": "markdown",
   "metadata": {},
   "source": [
    "## References"
   ]
  },
  {
   "cell_type": "markdown",
   "metadata": {},
   "source": [
    " - __[Deep Learning Hello World](https://github.com/arunponnusamy/deep-learning-hello-world)__\n",
    " - __[Mnist Wiki](https://en.wikipedia.org/wiki/MNIST_database)__\n",
    " - __[Method Comparison](https://www.researchgate.net/figure/Comparison-on-different-methods-for-handwritten-digit-recognition-over-MNIST-dataset_tbl2_220464658)__\n",
    " - __[TensorFlow Tutorials](https://www.tensorflow.org/tutorials/)__\n",
    " - __[OpenCV tutorial](https://opencv-python-tutroals.readthedocs.io/en/latest/py_tutorials/py_gui/py_image_display/py_image_display.html)__\n",
    " - __[keras.models.sequential](https://keras.io/models/sequential/)__"
   ]
  }
 ],
 "metadata": {
  "kernelspec": {
   "display_name": "Python 3",
   "language": "python",
   "name": "python3"
  },
  "language_info": {
   "codemirror_mode": {
    "name": "ipython",
    "version": 3
   },
   "file_extension": ".py",
   "mimetype": "text/x-python",
   "name": "python",
   "nbconvert_exporter": "python",
   "pygments_lexer": "ipython3",
   "version": "3.6.5"
  }
 },
 "nbformat": 4,
 "nbformat_minor": 2
}
