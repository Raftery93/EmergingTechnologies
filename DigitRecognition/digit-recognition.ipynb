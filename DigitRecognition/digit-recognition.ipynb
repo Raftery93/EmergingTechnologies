{
 "cells": [
  {
   "cell_type": "markdown",
   "metadata": {},
   "source": [
    "# Digit Recognition"
   ]
  },
  {
   "cell_type": "markdown",
   "metadata": {},
   "source": [
    "![Image of digit recognition](../images/mnistNN.png)"
   ]
  },
  {
   "cell_type": "markdown",
   "metadata": {},
   "source": [
    "The goal of this project is not to achieve the state of the art performance, but rather teach you how to train the MNIST dataset on image data with use of keras. Although the solution isn't optimized for high accuracy, the results are quite good (see table below).\n",
    "\n",
    "If you want to hit the top performance, this two resources will show you current state of the art solutions:<br>\n",
    "__[Who is the best in MNIST ?](http://rodrigob.github.io/are_we_there_yet/build/classification_datasets_results.html#4d4e495354)__<br>\n",
    "__[Kaggle digit recognizer comptetition](https://www.kaggle.com/c/digit-recognizer)__\n",
    "\n",
    "Who is the best in MNIST?\n",
    "Kaggle digit recognizer competition\n",
    "The table below shows some results in comparison with other models:\n",
    "<br>\n",
    "__Method__------------------------------------__Accuracy__<br>\n",
    "Random Forest-------------------------------0.937<br>\n",
    "Simple one-layer neural network---------0.926<br>\n",
    "Simple 2 layer convolutional network----0.981<br>\n",
    "SVM RBF--------------------------------------0.9852<br>\n",
    "_My Performance-----------------------------0.9184_"
   ]
  },
  {
   "cell_type": "markdown",
   "metadata": {},
   "source": [
    "## Solution"
   ]
  },
  {
   "cell_type": "code",
   "execution_count": null,
   "metadata": {},
   "outputs": [],
   "source": []
  }
 ],
 "metadata": {
  "kernelspec": {
   "display_name": "Python 3",
   "language": "python",
   "name": "python3"
  },
  "language_info": {
   "codemirror_mode": {
    "name": "ipython",
    "version": 3
   },
   "file_extension": ".py",
   "mimetype": "text/x-python",
   "name": "python",
   "nbconvert_exporter": "python",
   "pygments_lexer": "ipython3",
   "version": "3.6.5"
  }
 },
 "nbformat": 4,
 "nbformat_minor": 2
}
